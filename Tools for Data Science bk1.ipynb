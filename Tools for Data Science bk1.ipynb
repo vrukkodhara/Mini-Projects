{
 "cells": [
  {
   "cell_type": "markdown",
   "id": "5df549f7",
   "metadata": {},
   "source": [
    "# Tools for Data Science"
   ]
  },
  {
   "cell_type": "markdown",
   "id": "7cfffe6e",
   "metadata": {},
   "source": [
    "# Introduction"
   ]
  },
  {
   "cell_type": "markdown",
   "id": "c41ebce4",
   "metadata": {},
   "source": [
    "Data science has emerged as a transformative field that leverages data-driven insights to make informed decisions, solve complex problems, and drive innovation across various industries. Central to the practice of data science are a wide range of tools and technologies that empower data scientists and analysts to extract valuable insights from data.\n",
    "\n",
    "These tools for data science encompass a diverse set of software, programming languages, libraries, and platforms designed to handle the various stages of the data science lifecycle, from data acquisition and preprocessing to modeling, analysis, and visualization. They play a crucial role in streamlining and enhancing the data analysis process, allowing data professionals to work efficiently and effectively."
   ]
  },
  {
   "cell_type": "markdown",
   "id": "a97dfbc0",
   "metadata": {},
   "source": [
    "## Data Science Languages\n",
    "- Python\n",
    "- R\n",
    "- Julia"
   ]
  },
  {
   "cell_type": "markdown",
   "id": "1601184d",
   "metadata": {},
   "source": [
    "## Data Science Libraries\n",
    "- Numpy\n",
    "- Pandas\n",
    "- Matplotlib\n",
    "- Sci-kit learn\n",
    "- Tensorflow\n",
    "- Seaborn"
   ]
  },
  {
   "cell_type": "markdown",
   "id": "ea8e0f66",
   "metadata": {},
   "source": [
    "## Data Science Tools: \n",
    "| Tool         | Description        |\n",
    "|--------------|--------------------|\n",
    "| Jupyter      | Notebook platform  |\n",
    "| Matplotlib   | Data visualization |\n",
    "| TensorFlow   | Machine learning   |"
   ]
  },
  {
   "cell_type": "markdown",
   "id": "1c2420e6",
   "metadata": {},
   "source": [
    "## Arithmetic Expressions(Examples):\n",
    "1. X+y*z\n",
    "2. X**2+y"
   ]
  },
  {
   "cell_type": "code",
   "execution_count": 11,
   "id": "160e0d6c",
   "metadata": {},
   "outputs": [
    {
     "name": "stdout",
     "output_type": "stream",
     "text": [
      "Multiplying : 15\n",
      "Adding : 8\n"
     ]
    }
   ],
   "source": [
    "a = 5\n",
    "b = 3\n",
    "print(f'Multiplying : {a*b}')\n",
    "print(f'Adding : {a+b}')"
   ]
  },
  {
   "cell_type": "code",
   "execution_count": 18,
   "id": "db91247d",
   "metadata": {},
   "outputs": [
    {
     "name": "stdout",
     "output_type": "stream",
     "text": [
      "340\n",
      "Time in hours :5.666666666666667\n"
     ]
    }
   ],
   "source": [
    "minutes = int(input())\n",
    "hours = minutes/60\n",
    "print(f'Time in hours :{hours}')"
   ]
  },
  {
   "cell_type": "markdown",
   "id": "8712328f",
   "metadata": {},
   "source": [
    "## Objectives:\n",
    "- Learn data science languages and libraries\n",
    "- Perform arithmetic operations"
   ]
  },
  {
   "cell_type": "markdown",
   "id": "7bb1fd6a",
   "metadata": {},
   "source": [
    "# Author : Munagala Naga Sai"
   ]
  }
 ],
 "metadata": {
  "kernelspec": {
   "display_name": "Python 3 (ipykernel)",
   "language": "python",
   "name": "python3"
  },
  "language_info": {
   "codemirror_mode": {
    "name": "ipython",
    "version": 3
   },
   "file_extension": ".py",
   "mimetype": "text/x-python",
   "name": "python",
   "nbconvert_exporter": "python",
   "pygments_lexer": "ipython3",
   "version": "3.9.13"
  }
 },
 "nbformat": 4,
 "nbformat_minor": 5
}
